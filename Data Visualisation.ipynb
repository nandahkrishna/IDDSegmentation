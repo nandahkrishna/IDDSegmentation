{
 "cells": [
  {
   "cell_type": "code",
   "execution_count": null,
   "metadata": {},
   "outputs": [],
   "source": [
    "import cv2\n",
    "import os\n",
    "import numpy as np\n",
    "import matplotlib.pyplot as plt"
   ]
  },
  {
   "cell_type": "markdown",
   "metadata": {},
   "source": [
    "# Dataset"
   ]
  },
  {
   "cell_type": "code",
   "execution_count": null,
   "metadata": {},
   "outputs": [],
   "source": [
    "startpath = 'idd20k_lite/'\n",
    "for root, dirs, files in os.walk(startpath):\n",
    "    level = root.replace(startpath, '').count(os.sep)\n",
    "    indent = ' ' * 4 * (level)\n",
    "    try:\n",
    "        if not os.path.basename(root)[0].isdigit():\n",
    "            print('{}{}/'.format(indent, os.path.basename(root)))\n",
    "    except:\n",
    "        pass\n",
    "    subindent = ' ' * 4 * (level + 1)"
   ]
  },
  {
   "cell_type": "markdown",
   "metadata": {},
   "source": [
    "## Sample Training Image"
   ]
  },
  {
   "cell_type": "code",
   "execution_count": null,
   "metadata": {},
   "outputs": [],
   "source": [
    "img = cv2.imread('idd20k_lite/leftImg8bit/train/0/024541_image.jpg')"
   ]
  },
  {
   "cell_type": "code",
   "execution_count": null,
   "metadata": {},
   "outputs": [],
   "source": [
    "plt.imshow(img)"
   ]
  },
  {
   "cell_type": "markdown",
   "metadata": {},
   "source": [
    "## Semantic Segment Map"
   ]
  },
  {
   "cell_type": "code",
   "execution_count": null,
   "metadata": {},
   "outputs": [],
   "source": [
    "smap = cv2.imread('idd20k_lite/gtFine/train/0/024541_label.png', 0)"
   ]
  },
  {
   "cell_type": "code",
   "execution_count": null,
   "metadata": {},
   "outputs": [],
   "source": [
    "histr = cv2.calcHist([smap], [0], None, [10], [0, 10]) \n",
    "plt.plot(histr)"
   ]
  },
  {
   "cell_type": "code",
   "execution_count": null,
   "metadata": {},
   "outputs": [],
   "source": [
    "# Frequency Distribution\n",
    "y = np.bincount(smap.flatten())\n",
    "ii = np.nonzero(y)[0]\n",
    "np.vstack((ii, y[ii])).T "
   ]
  },
  {
   "cell_type": "code",
   "execution_count": null,
   "metadata": {},
   "outputs": [],
   "source": [
    "n = 200 // (len(np.vstack((ii, y[ii])).T) - 2)\n",
    "for i in range(len(smap)):\n",
    "    for j in range(len(smap[0])):\n",
    "        if smap[i][j] != 0 or smap[i][j] != 255:\n",
    "            smap[i][j] *= n\n",
    "plt.imshow(smap)"
   ]
  }
 ],
 "metadata": {
  "kernelspec": {
   "display_name": "Python 3",
   "language": "python",
   "name": "python3"
  },
  "language_info": {
   "codemirror_mode": {
    "name": "ipython",
    "version": 3
   },
   "file_extension": ".py",
   "mimetype": "text/x-python",
   "name": "python",
   "nbconvert_exporter": "python",
   "pygments_lexer": "ipython3",
   "version": "3.8.0"
  }
 },
 "nbformat": 4,
 "nbformat_minor": 2
}
