{
 "cells": [
  {
   "cell_type": "code",
   "execution_count": null,
   "metadata": {
    "colab": {},
    "colab_type": "code",
    "id": "2YeOSp-TCfp8"
   },
   "outputs": [],
   "source": [
    "import cv2, os, random\n",
    "import numpy as np\n",
    "import pandas as pd\n",
    "import matplotlib.pyplot as plt\n",
    "import keras\n",
    "from keras import *\n",
    "from keras.models import *\n",
    "from keras.layers import *\n",
    "from keras.optimizers import *"
   ]
  },
  {
   "cell_type": "code",
   "execution_count": null,
   "metadata": {
    "colab": {},
    "colab_type": "code",
    "id": "3IiQ4zoJCli-"
   },
   "outputs": [],
   "source": [
    "data = 'idd-lite_1/idd20k_lite/'\n",
    "\n",
    "img_train = data + 'leftImg8bit/train/'\n",
    "seg_train = data + 'gtFine/train/'\n",
    "\n",
    "img_val = data + 'leftImg8bit/val/'\n",
    "seg_val = data + 'gtFine/val/'"
   ]
  },
  {
   "cell_type": "code",
   "execution_count": null,
   "metadata": {
    "colab": {},
    "colab_type": "code",
    "id": "ikyYhzS0CyqS"
   },
   "outputs": [],
   "source": [
    "mi, ma = 0, 6\n",
    "n_classes = 7"
   ]
  },
  {
   "cell_type": "code",
   "execution_count": null,
   "metadata": {
    "colab": {},
    "colab_type": "code",
    "id": "FVVwqKM6C1vc"
   },
   "outputs": [],
   "source": [
    "def getImageArr(path, width, height):\n",
    "    img = cv2.imread(path, 1)\n",
    "    img = np.float32(cv2.resize(img, (width, height))) / 127.5 - 1\n",
    "    return img\n",
    "\n",
    "def getSegmentationArr(path, nClasses, width, height): \n",
    "    seg_labels = np.zeros((height, width, nClasses))\n",
    "    img = cv2.imread(path, 1)\n",
    "    img = cv2.resize(img, (width, height))\n",
    "    img = img[:, :, 0]\n",
    "    for c in range(nClasses):\n",
    "        seg_labels[:, :, c] = (img == c).astype(int)\n",
    "    return seg_labels"
   ]
  },
  {
   "cell_type": "code",
   "execution_count": null,
   "metadata": {
    "colab": {},
    "colab_type": "code",
    "id": "_EUP71sxC4_k"
   },
   "outputs": [],
   "source": [
    "input_height, input_width = 224, 224\n",
    "output_height, output_width = 224, 224"
   ]
  },
  {
   "cell_type": "code",
   "execution_count": null,
   "metadata": {
    "colab": {},
    "colab_type": "code",
    "id": "o_A-OfW-C7JH"
   },
   "outputs": [],
   "source": [
    "X_train, y_train = [], []\n",
    "X_val, y_val = [], []"
   ]
  },
  {
   "cell_type": "code",
   "execution_count": null,
   "metadata": {
    "colab": {},
    "colab_type": "code",
    "id": "178Oae30C86p"
   },
   "outputs": [],
   "source": [
    "train_img = os.listdir(img_train)\n",
    "train_img.sort()\n",
    "train_seg = os.listdir(seg_train)\n",
    "train_seg.sort()\n",
    "val_img = os.listdir(img_val)\n",
    "val_img.sort()\n",
    "val_seg = os.listdir(seg_val)\n",
    "val_seg.sort()"
   ]
  },
  {
   "cell_type": "code",
   "execution_count": null,
   "metadata": {
    "colab": {
     "base_uri": "https://localhost:8080/",
     "height": 86
    },
    "colab_type": "code",
    "id": "0OYlnU32y0Ei",
    "outputId": "13ac4be8-981e-4f82-b441-5d8925869a09"
   },
   "outputs": [],
   "source": [
    "print(train_img[: 5])\n",
    "print(train_seg[: 5])\n",
    "print(val_img[: 5])\n",
    "print(val_seg[: 5])"
   ]
  },
  {
   "cell_type": "code",
   "execution_count": null,
   "metadata": {
    "colab": {},
    "colab_type": "code",
    "id": "81czJBxBC_Tl"
   },
   "outputs": [],
   "source": [
    "for im, seg in zip(train_img, train_seg):\n",
    "    X_train.append(getImageArr(img_train + im, input_width, input_height))\n",
    "    y_train.append(getSegmentationArr(seg_train + seg, n_classes, output_width, output_height)) \n",
    "  \n",
    "for im, seg in zip(val_img, val_seg):\n",
    "    X_val.append(getImageArr(img_val + im, input_width, input_height))\n",
    "    y_val.append(getSegmentationArr(seg_val + seg, n_classes, output_width, output_height))"
   ]
  },
  {
   "cell_type": "code",
   "execution_count": null,
   "metadata": {
    "colab": {},
    "colab_type": "code",
    "id": "ah6n_lkqDBoY"
   },
   "outputs": [],
   "source": [
    "X_train, y_train = np.array(X_train), np.array(y_train)\n",
    "X_val, y_val = np.array(X_val),np.array(y_val)"
   ]
  },
  {
   "cell_type": "code",
   "execution_count": null,
   "metadata": {
    "colab": {
     "base_uri": "https://localhost:8080/",
     "height": 52
    },
    "colab_type": "code",
    "id": "qkh4Iymc3TtH",
    "outputId": "02b990f3-2d22-4f7b-e54c-4b5155b7fe9d"
   },
   "outputs": [],
   "source": [
    "print(X_train.shape, y_train.shape)\n",
    "print(X_val.shape, y_val.shape)"
   ]
  },
  {
   "cell_type": "code",
   "execution_count": null,
   "metadata": {
    "colab": {},
    "colab_type": "code",
    "id": "sBlbI3FGcIE6"
   },
   "outputs": [],
   "source": [
    "def identity_block(input_tensor, kernel_size, filters, stage, block):\n",
    "    filters1, filters2, filters3 = filters\n",
    "    bn_axis = 3\n",
    "\n",
    "    conv_name_base = 'res' + str(stage) + block + '_branch'\n",
    "    bn_name_base = 'bn' + str(stage) + block + '_branch'\n",
    "\n",
    "    x = Conv2D(filters1, (1, 1), name = conv_name_base + '2a')(input_tensor)\n",
    "    x = BatchNormalization(axis = bn_axis, name = bn_name_base + '2a')(x)\n",
    "    x = Activation('relu')(x)\n",
    "\n",
    "    x = Conv2D(filters2, kernel_size, padding = 'same', name = conv_name_base + '2b')(x)\n",
    "    x = BatchNormalization(axis = bn_axis, name = bn_name_base + '2b')(x)\n",
    "    x = Activation('relu')(x)\n",
    "\n",
    "    x = Conv2D(filters3, (1, 1), name = conv_name_base + '2c')(x)\n",
    "    x = BatchNormalization(axis = bn_axis, name = bn_name_base + '2c')(x)\n",
    "\n",
    "    x = layers.add([x, input_tensor])\n",
    "    x = Activation('relu')(x)\n",
    "  \n",
    "    return x\n",
    "\n",
    "def conv_block(input_tensor, kernel_size, filters, stage, block, strides = (2, 2)):\n",
    "    filters1, filters2, filters3 = filters\n",
    "    bn_axis = 3\n",
    "\n",
    "    conv_name_base = 'res' + str(stage) + block + '_branch'\n",
    "    bn_name_base = 'bn' + str(stage) + block + '_branch'\n",
    "\n",
    "    x = Conv2D(filters1, (1, 1), strides = strides, name = conv_name_base + '2a')(input_tensor)\n",
    "    x = BatchNormalization(axis = bn_axis, name = bn_name_base + '2a')(x)\n",
    "    x = Activation('relu')(x)\n",
    "\n",
    "    x = Conv2D(filters2, kernel_size, padding = 'same', name = conv_name_base + '2b')(x)\n",
    "    x = BatchNormalization(axis = bn_axis, name = bn_name_base + '2b')(x)\n",
    "    x = Activation('relu')(x)\n",
    "\n",
    "    x = Conv2D(filters3, (1, 1), name = conv_name_base + '2c')(x)\n",
    "    x = BatchNormalization(axis = bn_axis, name = bn_name_base + '2c')(x)\n",
    "\n",
    "    shortcut = Conv2D(filters3, (1, 1), strides = strides,\n",
    "                      name = conv_name_base + '1')(input_tensor)\n",
    "    shortcut = BatchNormalization(axis = bn_axis, name = bn_name_base + '1')(shortcut)\n",
    "\n",
    "    x = layers.add([x, shortcut])\n",
    "    x = Activation('relu')(x)\n",
    "\n",
    "    return x"
   ]
  },
  {
   "cell_type": "code",
   "execution_count": null,
   "metadata": {
    "colab": {},
    "colab_type": "code",
    "id": "BuSKlEMChKzb"
   },
   "outputs": [],
   "source": [
    "def ResNet50(input_tensor = None, input_shape = None, pooling = None, classes = 1000):\n",
    "    img_input = Input(shape = input_shape)\n",
    "    bn_axis = 3\n",
    "\n",
    "    x = Conv2D(64, (7, 7), strides = (2, 2), padding = 'same', name = 'conv1')(img_input)\n",
    "    x = BatchNormalization(axis = bn_axis, name = 'bn_conv1')(x)\n",
    "    x = Activation('relu')(x)\n",
    "    x = MaxPooling2D((3, 3), strides = (2, 2), padding = \"same\")(x)\n",
    "\n",
    "    x = conv_block(x, 3, [64, 64, 256], stage = 2, block = 'a', strides = (1, 1))\n",
    "    x = identity_block(x, 3, [64, 64, 256], stage = 2, block = 'b')\n",
    "    x = identity_block(x, 3, [64, 64, 256], stage = 2, block = 'c')\n",
    "\n",
    "    x = conv_block(x, 3, [128, 128, 512], stage = 3, block = 'a')\n",
    "    x = identity_block(x, 3, [128, 128, 512], stage = 3, block = 'b')\n",
    "    x = identity_block(x, 3, [128, 128, 512], stage = 3, block = 'c')\n",
    "    x = identity_block(x, 3, [128, 128, 512], stage = 3, block = 'd')\n",
    "\n",
    "    x = conv_block(x, 3, [256, 256, 1024], stage = 4, block = 'a')\n",
    "    x = identity_block(x, 3, [256, 256, 1024], stage = 4, block = 'b')\n",
    "    x = identity_block(x, 3, [256, 256, 1024], stage = 4, block = 'c')\n",
    "    x = identity_block(x, 3, [256, 256, 1024], stage = 4, block = 'd')\n",
    "    x = identity_block(x, 3, [256, 256, 1024], stage = 4, block = 'e')\n",
    "    x = identity_block(x, 3, [256, 256, 1024], stage = 4, block = 'f')\n",
    "\n",
    "    x = conv_block(x, 3, [512, 512, 2048], stage = 5, block = 'a')\n",
    "    x = identity_block(x, 3, [512, 512, 2048], stage = 5, block = 'b')\n",
    "    x = identity_block(x, 3, [512, 512, 2048], stage = 5, block = 'c')\n",
    "\n",
    "    model = Model(img_input, x, name = 'resnet50')\n",
    "    resnet50_weights_path = 'resnet50_weights_tf_dim_ordering_tf_kernels_notop.h5'\n",
    "    model.load_weights(resnet50_weights_path)\n",
    "\n",
    "    return model"
   ]
  },
  {
   "cell_type": "code",
   "execution_count": null,
   "metadata": {
    "colab": {},
    "colab_type": "code",
    "id": "jIPRcwtQhMzE"
   },
   "outputs": [],
   "source": [
    "def conv_block_bn(prevlayer, filters, prefix, strides = (1, 1)):\n",
    "    conv = Conv2D(filters, (3, 3), padding = \"same\", kernel_initializer = \"he_normal\", strides = strides, name = prefix + \"_conv\")(prevlayer)\n",
    "    conv = BatchNormalization(name = prefix + \"_bn\")(conv)\n",
    "    conv = Activation('relu', name = prefix + \"_activation\")(conv)\n",
    "\n",
    "    return conv\n",
    "\n",
    "def conv_block_no_bn(prevlayer, filters, prefix, strides = (1, 1)):\n",
    "    conv = Conv2D(filters, (3, 3), padding = \"same\", kernel_initializer = \"he_normal\", strides = strides, name = prefix + \"_conv\")(prevlayer)\n",
    "    conv = Activation('relu', name = prefix + \"_activation\")(conv)\n",
    "\n",
    "    return conv"
   ]
  },
  {
   "cell_type": "code",
   "execution_count": null,
   "metadata": {
    "colab": {},
    "colab_type": "code",
    "id": "fw6vLL5_iEVT"
   },
   "outputs": [],
   "source": [
    "def unet_resnet(nClasses, input_shape):\n",
    "    resnet_base = ResNet50(input_shape = input_shape)\n",
    "\n",
    "    for l in resnet_base.layers:\n",
    "        l.trainable = True\n",
    "\n",
    "    conv1 = resnet_base.get_layer(\"activation_1\").output\n",
    "    conv2 = resnet_base.get_layer(\"activation_10\").output\n",
    "    conv3 = resnet_base.get_layer(\"activation_22\").output\n",
    "    conv4 = resnet_base.get_layer(\"activation_40\").output\n",
    "    conv5 = resnet_base.get_layer(\"activation_49\").output\n",
    "\n",
    "    up6 = concatenate([UpSampling2D()(conv5), conv4], axis = -1)\n",
    "    conv6 = conv_block_bn(up6, 256, \"conv6_1\")\n",
    "    conv6 = conv_block_bn(conv6, 256, \"conv6_2\")\n",
    "\n",
    "    up7 = concatenate([UpSampling2D()(conv6), conv3], axis = -1)\n",
    "    conv7 = conv_block_bn(up7, 64, \"conv7_1\")\n",
    "    conv7 = conv_block_bn(conv7, 64, \"conv7_2\")\n",
    "\n",
    "    up8 = concatenate([UpSampling2D()(conv7), conv2], axis = -1)\n",
    "    conv8 = conv_block_bn(up8, 16, \"conv8_1\")\n",
    "    conv8 = conv_block_bn(conv8, 16, \"conv8_2\")\n",
    "\n",
    "    up9 = concatenate([UpSampling2D()(conv8), conv1], axis = -1)\n",
    "    conv9 = conv_block_bn(up9, 8, \"conv9_1\")\n",
    "    conv9 = conv_block_bn(conv9, 8, \"conv9_2\")\n",
    "\n",
    "    up10 = UpSampling2D()(conv9)\n",
    "    conv10 = conv_block_bn(up10, nClasses, \"conv10_1\")\n",
    "    conv10 = conv_block_bn(conv10, nClasses, \"conv10_2\")\n",
    "    conv10 = SpatialDropout2D(0.2)(conv10)\n",
    "\n",
    "    x = Conv2D(nClasses, kernel_size = (1, 1), strides = (1, 1), activation = \"softmax\", name = \"prediction\")(conv10)\n",
    "    model = Model(resnet_base.input, x)\n",
    "\n",
    "    return model"
   ]
  },
  {
   "cell_type": "code",
   "execution_count": null,
   "metadata": {
    "colab": {
     "base_uri": "https://localhost:8080/",
     "height": 1000
    },
    "colab_type": "code",
    "id": "1gukm--ci0wb",
    "outputId": "bb269a5e-aea1-4c63-8896-c46ab52301d9"
   },
   "outputs": [],
   "source": [
    "model = unet_resnet(nClasses = n_classes, input_shape = (input_width, input_height, 3))\n",
    "model.summary()"
   ]
  },
  {
   "cell_type": "code",
   "execution_count": null,
   "metadata": {
    "colab": {
     "base_uri": "https://localhost:8080/",
     "height": 106
    },
    "colab_type": "code",
    "id": "87br3qvdmoUo",
    "outputId": "44711239-e89c-4099-9862-74456f3eae4f"
   },
   "outputs": [],
   "source": [
    "model.compile(loss = 'categorical_crossentropy', optimizer = 'rmsprop', metrics = ['accuracy'])"
   ]
  },
  {
   "cell_type": "code",
   "execution_count": null,
   "metadata": {
    "colab": {
     "base_uri": "https://localhost:8080/",
     "height": 1000
    },
    "colab_type": "code",
    "id": "pEw5b4HFDSV0",
    "outputId": "fffafa5e-a4ea-4c59-e545-4e3b2048958a"
   },
   "outputs": [],
   "source": [
    "hist1 = model.fit(x = X_train, y = y_train, validation_data = (X_val, y_val), batch_size = 30, epochs = 30, verbose = 1)"
   ]
  },
  {
   "cell_type": "code",
   "execution_count": null,
   "metadata": {
    "colab": {
     "base_uri": "https://localhost:8080/",
     "height": 265
    },
    "colab_type": "code",
    "id": "64UrjuyKDUj-",
    "outputId": "4448a127-64ec-4614-b040-73b513713839"
   },
   "outputs": [],
   "source": [
    "for key in ['loss', 'val_loss']:\n",
    "    plt.plot(hist1.history[key], label = key)\n",
    "plt.legend()\n",
    "plt.show()"
   ]
  },
  {
   "cell_type": "code",
   "execution_count": null,
   "metadata": {
    "colab": {
     "base_uri": "https://localhost:8080/",
     "height": 34
    },
    "colab_type": "code",
    "id": "FfnILtPUDW75",
    "outputId": "47e8bdad-0928-495c-8424-62648a273be3"
   },
   "outputs": [],
   "source": [
    "y_pred = model.predict(X_val)\n",
    "y_predi = np.argmax(y_pred, axis=3)\n",
    "y_testi = np.argmax(y_val, axis=3)\n",
    "print(y_testi.shape, y_predi.shape)"
   ]
  },
  {
   "cell_type": "code",
   "execution_count": null,
   "metadata": {
    "colab": {},
    "colab_type": "code",
    "id": "956SUw-eDYyM"
   },
   "outputs": [],
   "source": [
    "def IoU(yi, y_predi):\n",
    "    IoUs = []\n",
    "    Nclass = 7\n",
    "    for c in range(Nclass):\n",
    "        TP = np.sum((yi == c) & (y_predi == c))\n",
    "        FP = np.sum((yi != c) & (y_predi == c))\n",
    "        FN = np.sum((yi == c) & (y_predi != c)) \n",
    "        IoU = TP / float(TP + FP + FN)\n",
    "        print('class {:02.0f}: #TP={:6.0f}, #FP={:6.0f}, #FN={:5.0f}, IoU={:4.3f}'.format(c, TP, FP, FN, IoU))\n",
    "        IoUs.append(IoU)\n",
    "    mIoU = np.mean(IoUs)\n",
    "    print('Mean IoU: {:4.3f}'.format(mIoU))"
   ]
  },
  {
   "cell_type": "code",
   "execution_count": null,
   "metadata": {
    "colab": {
     "base_uri": "https://localhost:8080/",
     "height": 156
    },
    "colab_type": "code",
    "id": "vEqenuDvDa7C",
    "outputId": "b9519b79-4e3f-485f-eb52-ad17212936f5"
   },
   "outputs": [],
   "source": [
    "IoU(y_testi, y_predi)"
   ]
  },
  {
   "cell_type": "code",
   "execution_count": null,
   "metadata": {
    "colab": {},
    "colab_type": "code",
    "id": "nSu7PFRwRqVj"
   },
   "outputs": [],
   "source": [
    "model.save('u-net.h5')"
   ]
  }
 ],
 "metadata": {
  "accelerator": "GPU",
  "colab": {
   "machine_shape": "hm",
   "name": "UNet_ResNet.ipynb",
   "provenance": []
  },
  "kernelspec": {
   "display_name": "Python 3",
   "language": "python",
   "name": "python3"
  },
  "language_info": {
   "codemirror_mode": {
    "name": "ipython",
    "version": 3
   },
   "file_extension": ".py",
   "mimetype": "text/x-python",
   "name": "python",
   "nbconvert_exporter": "python",
   "pygments_lexer": "ipython3",
   "version": "3.8.0"
  }
 },
 "nbformat": 4,
 "nbformat_minor": 1
}
