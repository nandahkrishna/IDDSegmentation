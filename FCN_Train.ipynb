{
 "cells": [
  {
   "cell_type": "code",
   "execution_count": null,
   "metadata": {
    "colab": {},
    "colab_type": "code",
    "id": "2YeOSp-TCfp8"
   },
   "outputs": [],
   "source": [
    "import cv2, os, random\n",
    "import numpy as np\n",
    "import pandas as pd\n",
    "import matplotlib.pyplot as plt\n",
    "import tensorflow as tf\n",
    "import keras, sys, time, warnings\n",
    "from keras.models import *\n",
    "from keras.layers import *\n",
    "from keras import optimizers"
   ]
  },
  {
   "cell_type": "code",
   "execution_count": null,
   "metadata": {
    "colab": {},
    "colab_type": "code",
    "id": "3IiQ4zoJCli-"
   },
   "outputs": [],
   "source": [
    "data = 'idd-lite_1/idd20k_lite/'\n",
    "\n",
    "img_train = data + 'leftImg8bit/train/'\n",
    "seg_train = data + 'gtFine/train/'\n",
    "\n",
    "img_val = data + 'leftImg8bit/val/'\n",
    "seg_val = data + 'gtFine/val/'"
   ]
  },
  {
   "cell_type": "code",
   "execution_count": null,
   "metadata": {
    "colab": {},
    "colab_type": "code",
    "id": "ikyYhzS0CyqS"
   },
   "outputs": [],
   "source": [
    "mi, ma = 0, 6\n",
    "n_classes = ma - mi + 1"
   ]
  },
  {
   "cell_type": "code",
   "execution_count": null,
   "metadata": {
    "colab": {},
    "colab_type": "code",
    "id": "FVVwqKM6C1vc"
   },
   "outputs": [],
   "source": [
    "def getImageArr(path, width, height):\n",
    "    img = cv2.imread(path, 1)\n",
    "    img = np.float32(cv2.resize(img, (width, height))) / 127.5 - 1\n",
    "    return img\n",
    "\n",
    "def getSegmentationArr(path, nClasses, width, height):\n",
    "    seg_labels = np.zeros((height, width, nClasses))\n",
    "    img = cv2.imread(path, 1)\n",
    "    img = cv2.resize(img, (width, height))\n",
    "    img = img[:, :, 0]\n",
    "\n",
    "    for c in range(nClasses):\n",
    "        seg_labels[:, :, c] = (img == c ).astype(int)\n",
    "\n",
    "    return seg_labels"
   ]
  },
  {
   "cell_type": "code",
   "execution_count": null,
   "metadata": {
    "colab": {},
    "colab_type": "code",
    "id": "_EUP71sxC4_k"
   },
   "outputs": [],
   "source": [
    "input_height, input_width = 224, 224\n",
    "output_height, output_width = 224, 224"
   ]
  },
  {
   "cell_type": "code",
   "execution_count": null,
   "metadata": {
    "colab": {},
    "colab_type": "code",
    "id": "o_A-OfW-C7JH"
   },
   "outputs": [],
   "source": [
    "X_train, y_train = [], []\n",
    "X_val, y_val = [], []"
   ]
  },
  {
   "cell_type": "code",
   "execution_count": null,
   "metadata": {
    "colab": {},
    "colab_type": "code",
    "id": "178Oae30C86p"
   },
   "outputs": [],
   "source": [
    "train_img = os.listdir(img_train)\n",
    "train_img.sort()\n",
    "train_seg = os.listdir(seg_train)\n",
    "train_seg.sort()\n",
    "\n",
    "val_img = os.listdir(img_val)\n",
    "val_img.sort()\n",
    "val_seg = os.listdir(seg_val)\n",
    "val_seg.sort()"
   ]
  },
  {
   "cell_type": "code",
   "execution_count": null,
   "metadata": {
    "colab": {
     "base_uri": "https://localhost:8080/",
     "height": 86
    },
    "colab_type": "code",
    "id": "0OYlnU32y0Ei",
    "outputId": "cbab54ce-e175-4ea4-a5b5-f01802ea5864"
   },
   "outputs": [],
   "source": [
    "print(train_img[:5])\n",
    "print(train_seg[:5])\n",
    "print(val_img[:5])\n",
    "print(val_seg[:5])"
   ]
  },
  {
   "cell_type": "code",
   "execution_count": null,
   "metadata": {
    "colab": {},
    "colab_type": "code",
    "id": "81czJBxBC_Tl"
   },
   "outputs": [],
   "source": [
    "for im, seg in zip(train_img, train_seg):\n",
    "    X_train.append(getImageArr(img_train + im, input_width, input_height))\n",
    "    y_train.append(getSegmentationArr(seg_train + seg, n_classes, output_width, output_height))\n",
    "    \n",
    "for im, seg in zip(val_img, val_seg):\n",
    "    X_val.append(getImageArr(img_val + im, input_width, input_height))\n",
    "    y_val.append(getSegmentationArr(seg_val + seg, n_classes, output_width, output_height))"
   ]
  },
  {
   "cell_type": "code",
   "execution_count": null,
   "metadata": {
    "colab": {},
    "colab_type": "code",
    "id": "ah6n_lkqDBoY"
   },
   "outputs": [],
   "source": [
    "X_train, y_train = np.array(X_train), np.array(y_train)\n",
    "X_val, y_val = np.array(X_val),np.array(y_val)"
   ]
  },
  {
   "cell_type": "code",
   "execution_count": null,
   "metadata": {
    "colab": {
     "base_uri": "https://localhost:8080/",
     "height": 52
    },
    "colab_type": "code",
    "id": "qkh4Iymc3TtH",
    "outputId": "d66c95c8-9d5b-401d-96b8-9f88b5bdd5ba"
   },
   "outputs": [],
   "source": [
    "print(X_train.shape, y_train.shape)\n",
    "print(X_val.shape, y_val.shape)"
   ]
  },
  {
   "cell_type": "code",
   "execution_count": null,
   "metadata": {
    "colab": {},
    "colab_type": "code",
    "id": "9_DesVfzDD32"
   },
   "outputs": [],
   "source": [
    "VGG_Weights_path = 'vgg16_weights_tf_dim_ordering_tf_kernels_notop.h5'"
   ]
  },
  {
   "cell_type": "code",
   "execution_count": null,
   "metadata": {
    "colab": {},
    "colab_type": "code",
    "id": "3iyWgMV5DFS-"
   },
   "outputs": [],
   "source": [
    "def FCN8(nClasses, input_width = 224, input_height = 224):\n",
    "    assert input_width % 32 == 0\n",
    "    assert input_height % 32 == 0\n",
    "    IMAGE_ORDERING = 'channels_last'\n",
    "    \n",
    "    img_input = Input(shape = (input_height, input_width, 3))\n",
    "    \n",
    "    x = Conv2D(64, (3, 3), activation = 'relu', padding = 'same', name = 'block1_conv1', data_format = IMAGE_ORDERING )(img_input)\n",
    "    x = Conv2D(64, (3, 3), activation = 'relu', padding = 'same', name = 'block1_conv2', data_format = IMAGE_ORDERING )(x)\n",
    "    x = MaxPooling2D((2, 2), strides = (2, 2), name = 'block1_pool', data_format = IMAGE_ORDERING )(x)\n",
    "    f1 = x\n",
    "    \n",
    "    x = Conv2D(128, (3, 3), activation = 'relu', padding = 'same', name = 'block2_conv1', data_format = IMAGE_ORDERING )(x)\n",
    "    x = Conv2D(128, (3, 3), activation = 'relu', padding = 'same', name = 'block2_conv2', data_format = IMAGE_ORDERING )(x)\n",
    "    x = MaxPooling2D((2, 2), strides = (2, 2), name = 'block2_pool', data_format = IMAGE_ORDERING )(x)\n",
    "    f2 = x\n",
    "    \n",
    "    x = Conv2D(256, (3, 3), activation = 'relu', padding = 'same', name = 'block3_conv1', data_format = IMAGE_ORDERING )(x)\n",
    "    x = Conv2D(256, (3, 3), activation = 'relu', padding = 'same', name = 'block3_conv2', data_format = IMAGE_ORDERING )(x)\n",
    "    x = Conv2D(256, (3, 3), activation = 'relu', padding = 'same', name = 'block3_conv3', data_format = IMAGE_ORDERING )(x)\n",
    "    x = MaxPooling2D((2, 2), strides = (2, 2), name = 'block3_pool', data_format = IMAGE_ORDERING )(x)\n",
    "    pool3 = x\n",
    "    \n",
    "    x = Conv2D(512, (3, 3), activation = 'relu', padding = 'same', name = 'block4_conv1', data_format = IMAGE_ORDERING )(x)\n",
    "    x = Conv2D(512, (3, 3), activation = 'relu', padding = 'same', name = 'block4_conv2', data_format = IMAGE_ORDERING )(x)\n",
    "    x = Conv2D(512, (3, 3), activation = 'relu', padding = 'same', name = 'block4_conv3', data_format = IMAGE_ORDERING )(x)\n",
    "    x = MaxPooling2D((2, 2), strides = (2, 2), name = 'block4_pool', data_format = IMAGE_ORDERING )(x)\n",
    "    pool4 = x\n",
    "    \n",
    "    x = Conv2D(512, (3, 3), activation = 'relu', padding = 'same', name = 'block5_conv1', data_format = IMAGE_ORDERING )(pool4)\n",
    "    x = Conv2D(512, (3, 3), activation = 'relu', padding = 'same', name = 'block5_conv2', data_format = IMAGE_ORDERING )(x)\n",
    "    x = Conv2D(512, (3, 3), activation = 'relu', padding = 'same', name = 'block5_conv3', data_format = IMAGE_ORDERING )(x)\n",
    "    x = MaxPooling2D((2, 2), strides = (2, 2), name = 'block5_pool', data_format = IMAGE_ORDERING )(x)\n",
    "    pool5 = x\n",
    "    \n",
    "    vgg = Model(img_input, pool5)\n",
    "    vgg.load_weights(VGG_Weights_path)\n",
    "    \n",
    "    n = 4096\n",
    "    o = (Conv2D(n, (7, 7), activation = 'relu', padding = 'same', name = 'conv6', data_format = IMAGE_ORDERING))(pool5)\n",
    "    conv7 = (Conv2D(n, (1, 1), activation = 'relu', padding = 'same', name = 'conv7', data_format = IMAGE_ORDERING))(o)\n",
    "    \n",
    "    conv7_4 = Conv2DTranspose(nClasses, kernel_size = (4, 4) ,strides = (4, 4), use_bias = False, data_format = IMAGE_ORDERING )(conv7)\n",
    "    \n",
    "    pool411 = (Conv2D(nClasses, (1, 1), activation = 'relu', padding = 'same', name = 'pool4_11', data_format = IMAGE_ORDERING))(pool4)\n",
    "    pool411_2 = (Conv2DTranspose(nClasses, kernel_size = (2, 2), strides = (2, 2), use_bias = False, data_format = IMAGE_ORDERING ))(pool411)\n",
    "    \n",
    "    pool311 = (Conv2D(nClasses, (1, 1), activation = 'relu', padding = 'same', name = 'pool3_11', data_format = IMAGE_ORDERING))(pool3)\n",
    "        \n",
    "    o = Add(name = 'add')([pool411_2, pool311, conv7_4])\n",
    "    o = Conv2DTranspose(nClasses, kernel_size = (8, 8), strides = (8, 8), use_bias = False, data_format = IMAGE_ORDERING )(o)\n",
    "    o = (Activation('softmax'))(o)\n",
    "    \n",
    "    model = Model(img_input, o)\n",
    "\n",
    "    return model"
   ]
  },
  {
   "cell_type": "code",
   "execution_count": null,
   "metadata": {
    "colab": {
     "base_uri": "https://localhost:8080/",
     "height": 1000
    },
    "colab_type": "code",
    "id": "TRxLWMYmDIKA",
    "outputId": "6854eff6-6e1d-4ddc-f10f-beb79d4ba651"
   },
   "outputs": [],
   "source": [
    "model = FCN8(nClasses = n_classes, input_width  = 224, input_height = 224)\n",
    "model.summary()"
   ]
  },
  {
   "cell_type": "code",
   "execution_count": null,
   "metadata": {
    "colab": {},
    "colab_type": "code",
    "id": "PGXcZ8mmDJ9w"
   },
   "outputs": [],
   "source": [
    "sgd = optimizers.SGD(lr = 0.01, decay = 5 ** (-4), momentum = 0.9, nesterov = True)\n",
    "model.compile(loss = 'categorical_crossentropy',\n",
    "              optimizer = sgd,\n",
    "              metrics = ['accuracy'])"
   ]
  },
  {
   "cell_type": "code",
   "execution_count": null,
   "metadata": {
    "colab": {
     "base_uri": "https://localhost:8080/",
     "height": 1000
    },
    "colab_type": "code",
    "id": "pEw5b4HFDSV0",
    "outputId": "55f7d190-678e-4823-d80e-e383a618e36b"
   },
   "outputs": [],
   "source": [
    "hist1 = model.fit(X_train, y_train,\n",
    "                  validation_data = (X_val, y_val),\n",
    "                  batch_size = 32, epochs = 200, verbose = 1)"
   ]
  },
  {
   "cell_type": "code",
   "execution_count": null,
   "metadata": {
    "colab": {
     "base_uri": "https://localhost:8080/",
     "height": 265
    },
    "colab_type": "code",
    "id": "64UrjuyKDUj-",
    "outputId": "1843a825-9d11-4752-94d9-a1df5f078f15"
   },
   "outputs": [],
   "source": [
    "for key in ['loss', 'val_loss']:\n",
    "    plt.plot(hist1.history[key], label = key)\n",
    "plt.legend()\n",
    "plt.show()"
   ]
  },
  {
   "cell_type": "code",
   "execution_count": null,
   "metadata": {
    "colab": {
     "base_uri": "https://localhost:8080/",
     "height": 34
    },
    "colab_type": "code",
    "id": "FfnILtPUDW75",
    "outputId": "a36f8679-ca0f-417e-bb4f-4ca1b90409c0"
   },
   "outputs": [],
   "source": [
    "y_pred = model.predict(X_val)\n",
    "y_predi = np.argmax(y_pred, axis=3)\n",
    "y_testi = np.argmax(y_val, axis=3)\n",
    "print(y_testi.shape,y_predi.shape)"
   ]
  },
  {
   "cell_type": "code",
   "execution_count": null,
   "metadata": {
    "colab": {},
    "colab_type": "code",
    "id": "956SUw-eDYyM"
   },
   "outputs": [],
   "source": [
    "def IoU(yi, y_predi):\n",
    "    IoUs = []\n",
    "    Nclass = 7\n",
    "    for c in range(Nclass):\n",
    "        TP = np.sum((yi == c) & (y_predi == c))\n",
    "        FP = np.sum((yi != c) & (y_predi == c))\n",
    "        FN = np.sum((yi == c) & (y_predi != c)) \n",
    "        IoU = TP/float(TP + FP + FN)\n",
    "        print('class {:02.0f}: #TP={:6.0f}, #FP={:6.0f}, #FN={:5.0f}, IoU={:4.3f}'.format(c, TP, FP, FN, IoU))\n",
    "        IoUs.append(IoU)\n",
    "    mIoU = np.mean(IoUs)\n",
    "    print('Mean IoU: {:4.3f}'.format(mIoU))"
   ]
  },
  {
   "cell_type": "code",
   "execution_count": null,
   "metadata": {
    "colab": {
     "base_uri": "https://localhost:8080/",
     "height": 156
    },
    "colab_type": "code",
    "id": "vEqenuDvDa7C",
    "outputId": "6ae89bdb-cd15-4fb3-f92e-c0050eeaab98"
   },
   "outputs": [],
   "source": [
    "IoU(y_testi,y_predi)"
   ]
  },
  {
   "cell_type": "code",
   "execution_count": null,
   "metadata": {
    "colab": {},
    "colab_type": "code",
    "id": "qDYYDqDeDetI"
   },
   "outputs": [],
   "source": [
    "model.save('fcn.h5')"
   ]
  }
 ],
 "metadata": {
  "accelerator": "GPU",
  "colab": {
   "collapsed_sections": [],
   "include_colab_link": true,
   "name": "FCN_train.ipynb",
   "provenance": []
  },
  "kernelspec": {
   "display_name": "Python 3",
   "language": "python",
   "name": "python3"
  },
  "language_info": {
   "codemirror_mode": {
    "name": "ipython",
    "version": 3
   },
   "file_extension": ".py",
   "mimetype": "text/x-python",
   "name": "python",
   "nbconvert_exporter": "python",
   "pygments_lexer": "ipython3",
   "version": "3.8.0"
  }
 },
 "nbformat": 4,
 "nbformat_minor": 1
}
