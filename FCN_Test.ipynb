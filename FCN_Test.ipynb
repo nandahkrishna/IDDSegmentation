{
 "cells": [
  {
   "cell_type": "code",
   "execution_count": null,
   "metadata": {
    "colab": {},
    "colab_type": "code",
    "id": "OH7BynrkjbvZ"
   },
   "outputs": [],
   "source": [
    "import cv2, os\n",
    "import numpy as np\n",
    "from keras.models import load_model"
   ]
  },
  {
   "cell_type": "code",
   "execution_count": null,
   "metadata": {
    "colab": {},
    "colab_type": "code",
    "id": "B5MesZ-cj9Bb"
   },
   "outputs": [],
   "source": [
    "model = load_model('fcn.h5')"
   ]
  },
  {
   "cell_type": "code",
   "execution_count": null,
   "metadata": {
    "colab": {},
    "colab_type": "code",
    "id": "xidWiSbokESE"
   },
   "outputs": [],
   "source": [
    "input_height, input_width = 224, 224\n",
    "output_height, output_width = 128, 256"
   ]
  },
  {
   "cell_type": "code",
   "execution_count": null,
   "metadata": {
    "colab": {},
    "colab_type": "code",
    "id": "DBCLCKKZkWwx"
   },
   "outputs": [],
   "source": [
    "path = 'idd-lite/idd20k_lite/leftImg8bit/test/'\n",
    "os.mkdir(path + 'test_2')"
   ]
  },
  {
   "cell_type": "code",
   "execution_count": null,
   "metadata": {
    "colab": {},
    "colab_type": "code",
    "id": "ut0H95PLsBf7"
   },
   "outputs": [],
   "source": [
    "files = os.listdir(path)\n",
    "files.remove('test_2')"
   ]
  },
  {
   "cell_type": "code",
   "execution_count": null,
   "metadata": {
    "colab": {
     "base_uri": "https://localhost:8080/",
     "height": 1000
    },
    "colab_type": "code",
    "id": "KWnW3ouckaqe",
    "outputId": "4a90908d-5ce9-41d1-ea23-f26cc5135157"
   },
   "outputs": [],
   "source": [
    "for i in files:\n",
    "    os.mkdir(path + 'test_2/' + i)\n",
    "    subpath = path + i\n",
    "\n",
    "    for j in os.listdir(subpath):\n",
    "        img = cv2.imread(subpath + '/' + j)\n",
    "        img = np.float32(cv2.resize(img, (input_width, input_height))) / 127.5 - 1\n",
    "        img = np.expand_dims(img, axis = 0)\n",
    "\n",
    "        seg = model.predict(np.float32(img))\n",
    "        seg_ = np.argmax(seg, axis = 3)\n",
    "        seg_ = cv2.resize(np.uint8(seg_[0]), (output_width, output_height))\n",
    "   \n",
    "        cv2.imwrite(path + 'test_2/' + i + '/' + j[: -9] + 'label.png', seg_)\n",
    "        print(path + 'test_2/' + i + '/' + j[: -9] + 'label.png')"
   ]
  }
 ],
 "metadata": {
  "accelerator": "GPU",
  "colab": {
   "collapsed_sections": [],
   "include_colab_link": true,
   "name": "FCN_test_2.ipynb",
   "provenance": []
  },
  "kernelspec": {
   "display_name": "Python 3",
   "language": "python",
   "name": "python3"
  },
  "language_info": {
   "codemirror_mode": {
    "name": "ipython",
    "version": 3
   },
   "file_extension": ".py",
   "mimetype": "text/x-python",
   "name": "python",
   "nbconvert_exporter": "python",
   "pygments_lexer": "ipython3",
   "version": "3.8.0"
  }
 },
 "nbformat": 4,
 "nbformat_minor": 1
}
